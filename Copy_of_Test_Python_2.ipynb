{
  "cells": [
    {
      "cell_type": "markdown",
      "id": "4e147004",
      "metadata": {
        "id": "4e147004"
      },
      "source": [
        "### Python 2 : Find Distance Between Two Coordinates"
      ]
    },
    {
      "cell_type": "markdown",
      "id": "983e04ac",
      "metadata": {
        "id": "983e04ac"
      },
      "source": [
        "### Task"
      ]
    },
    {
      "cell_type": "markdown",
      "id": "5ec350f9",
      "metadata": {
        "id": "5ec350f9"
      },
      "source": [
        "Create a function called ```distance``` that does the following:\n",
        "\n",
        "Given two coordinates in a list. Your task is to calculate the distance between these two coordinates. The input of your function will be two list. Each list contains 2 members, representing the x and y position."
      ]
    },
    {
      "cell_type": "markdown",
      "id": "fe7657d7",
      "metadata": {
        "id": "fe7657d7"
      },
      "source": [
        "### Example 1:\n",
        "\n",
        "**Input**:\n",
        "- point_1 = [5, 5]\n",
        "- point_2 = [1, 2]\n",
        "\n",
        "This means, the first point's coordinate is (5,5), the second point's coordinate is (1,2). To calculate the distance between these two points, we use the usual euclidean distance formula here: https://wikimedia.org/api/rest_v1/media/math/render/svg/2e0c9ce1b3455cb9e92c6bad6684dbda02f69c82.\n",
        "\n",
        "The distance is:\n",
        "\n",
        "Square root of ((5-1)^2 + (5-2)^2) = Square root of (16 + 9) = Square root of (25) = 5.\n",
        "\n",
        "**Output**: 'The distance is 5.'\n",
        "\n",
        "So, when we run the code ```distance(point_1, point_2)``` the output will be 'The distance is 5'."
      ]
    },
    {
      "cell_type": "markdown",
      "id": "70c43c1f",
      "metadata": {
        "id": "70c43c1f"
      },
      "source": [
        "### Example 2:\n",
        "\n",
        "**Input**:\n",
        "- point_1 = [0,-1]\n",
        "- point_2 = [-3, 2]\n",
        "\n",
        "The first coordinate is (0,-1), the second coordinate is (-3,2). The distance between them is:\n",
        "\n",
        "Square root of ((0- -3)^2 + (-1-2)^2) = Square root of (9 + 9) = Square root of (18) = 4.242640687\n",
        "\n",
        "**Output**: 'The distance is 4.242640687'.\n",
        "\n",
        "So, when we run the code ```distance(point_1, point_2)``` the output will be 'The distance is 4.242640487'."
      ]
    },
    {
      "cell_type": "markdown",
      "id": "09f9a98e",
      "metadata": {
        "id": "09f9a98e"
      },
      "source": [
        "### FAQ:\n",
        "\n",
        "- Question: \"Desimalnya dibuletin ngga?\"\n",
        "- Answer: \"Ngga usah peduliin format output desimalnya. Mau keluar berapa angka di belakang koma gapapa kok. Yang penting value-nya benar.\""
      ]
    },
    {
      "cell_type": "markdown",
      "id": "04034fe3",
      "metadata": {
        "id": "04034fe3"
      },
      "source": [
        "### Space for Work"
      ]
    },
    {
      "cell_type": "code",
      "source": [
        "import math\n",
        "\n",
        "def distance(point_1, point_2):\n",
        "    # Mengambil koordinat x dan y dari list input\n",
        "    x1, y1 = point_1\n",
        "    x2, y2 = point_2\n",
        "\n",
        "    # Menghitung selisih koordinat x dan y\n",
        "    dx = x2 - x1\n",
        "    dy = y2 - y1\n",
        "\n",
        "    # Menghitung kuadrat dari selisihnya\n",
        "    dx_kuadrat = dx ** 2\n",
        "    dy_kuadrat = dy ** 2\n",
        "\n",
        "    # Menghitung jarak Euclidean\n",
        "    jarak = math.sqrt(dx_kuadrat + dy_kuadrat)\n",
        "\n",
        "    # Return jarak yang dihitung\n",
        "    return f'The distance is {jarak}'\n",
        "\n",
        "# Soal:\n",
        "point_1 = [9, 12]\n",
        "point_2 = [22, 2]\n",
        "\n",
        "# Menghitung jarak\n",
        "hasil = distance(point_1, point_2)\n",
        "print(hasil)\n"
      ],
      "metadata": {
        "colab": {
          "base_uri": "https://localhost:8080/"
        },
        "id": "rThWkFbA4fcr",
        "outputId": "123e5f32-afe5-4e6e-db14-fe8df4b68664"
      },
      "id": "rThWkFbA4fcr",
      "execution_count": 22,
      "outputs": [
        {
          "output_type": "stream",
          "name": "stdout",
          "text": [
            "The distance is 16.401219466856727\n"
          ]
        }
      ]
    }
  ],
  "metadata": {
    "kernelspec": {
      "display_name": "Python 3",
      "language": "python",
      "name": "python3"
    },
    "language_info": {
      "codemirror_mode": {
        "name": "ipython",
        "version": 3
      },
      "file_extension": ".py",
      "mimetype": "text/x-python",
      "name": "python",
      "nbconvert_exporter": "python",
      "pygments_lexer": "ipython3",
      "version": "3.7.0"
    },
    "colab": {
      "provenance": []
    }
  },
  "nbformat": 4,
  "nbformat_minor": 5
}